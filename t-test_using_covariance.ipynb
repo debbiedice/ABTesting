{
 "cells": [
  {
   "cell_type": "markdown",
   "id": "d6bd0a6e",
   "metadata": {},
   "source": [
    "To check if the results of an A/B test are statistically significant using the covariance measure, we first need to calculate the sample covariance between the two groups (A and B). The sample covariance is calculated as follows:"
   ]
  },
  {
   "cell_type": "code",
   "execution_count": 110,
   "id": "ecb8d9f4",
   "metadata": {},
   "outputs": [],
   "source": [
    "import pandas as pd\n",
    "df = pd.read_csv('RMA A_B Test Data - rma_ABtest.csv')"
   ]
  },
  {
   "cell_type": "code",
   "execution_count": 111,
   "id": "8c1b0493",
   "metadata": {},
   "outputs": [],
   "source": [
    "df['date'] =  pd.to_datetime(df['record_date'], format='%d/%m/%Y')"
   ]
  },
  {
   "cell_type": "code",
   "execution_count": 14,
   "id": "792c93c7",
   "metadata": {},
   "outputs": [],
   "source": [
    "active_df = df[df['status'] == 'Active'].sort_values(by=['date'])"
   ]
  },
  {
   "cell_type": "code",
   "execution_count": 15,
   "id": "2b596aac",
   "metadata": {},
   "outputs": [],
   "source": [
    "others_df = df[df['status'] == 'Others'].sort_values(by=['date'])"
   ]
  },
  {
   "cell_type": "code",
   "execution_count": 112,
   "id": "cef1cbdf",
   "metadata": {},
   "outputs": [
    {
     "data": {
      "text/plain": [
       "Index(['record_date', 'status', 'ctr', 'conv_per_click', 'CVR',\n",
       "       'revenue_per_visit', 'aov', 'date'],\n",
       "      dtype='object')"
      ]
     },
     "execution_count": 112,
     "metadata": {},
     "output_type": "execute_result"
    }
   ],
   "source": [
    "df.columns"
   ]
  },
  {
   "cell_type": "code",
   "execution_count": 125,
   "id": "5b2a7ab6",
   "metadata": {},
   "outputs": [],
   "source": [
    "import numpy as np\n",
    "\n",
    "dimension = \"aov\"\n",
    "\n",
    "group_a = active_df[dimension]\n",
    "group_b = others_df[dimension]\n",
    "\n",
    "cov = np.cov(group_a, group_b)[0][1]"
   ]
  },
  {
   "cell_type": "code",
   "execution_count": 126,
   "id": "581f0eb3",
   "metadata": {},
   "outputs": [
    {
     "name": "stdout",
     "output_type": "stream",
     "text": [
      "1391.3104251496097\n"
     ]
    }
   ],
   "source": [
    "print(cov)"
   ]
  },
  {
   "cell_type": "markdown",
   "id": "ff3bbd7d",
   "metadata": {},
   "source": [
    "The resulting covariance value can then be compared to a critical value from a t-distribution table (or calculated using a t-test) to determine if it is statistically significant."
   ]
  },
  {
   "cell_type": "code",
   "execution_count": 127,
   "id": "9d70fa66",
   "metadata": {},
   "outputs": [],
   "source": [
    "# from scipy.stats import t\n",
    "\n",
    "# alpha = 0.05  # significance level of 0.05 this means we are 95% that there is an impact \n",
    "# # confidence = 1 - alpha\n",
    "\n",
    "# # degrees of freedom\n",
    "# df = len(group_a) + len(group_b) - 2\n",
    "\n",
    "# # critical value\n",
    "# cv = t.ppf(1.0 - alpha, df)\n",
    "\n",
    "# # calculate t-statistic\n",
    "# t_stat = cov / (np.std(group_a) * np.std(group_b) / np.sqrt(len(group_a)))\n",
    "\n",
    "# # compare to critical value\n",
    "# if abs(t_stat) > cv:\n",
    "#     print(\"Results are statistically significant.\")\n",
    "# else:\n",
    "#     print(\"Results are not statistically significant.\")\n"
   ]
  },
  {
   "cell_type": "code",
   "execution_count": 128,
   "id": "1d3447b3",
   "metadata": {},
   "outputs": [
    {
     "name": "stdout",
     "output_type": "stream",
     "text": [
      "Results are not statistically significant.\n",
      "1.0018634716879475 0.317903649622347\n"
     ]
    }
   ],
   "source": [
    "from scipy import stats\n",
    "\n",
    "# Sample data\n",
    "control = group_a\n",
    "treatment = group_b\n",
    "\n",
    "# Perform t-test\n",
    "t, p = stats.ttest_ind(control, treatment)\n",
    "\n",
    "# Check if results are statistically significant\n",
    "alpha = 0.05 # significance level\n",
    "if p < alpha:\n",
    "    print(\"Results are statistically significant.\")\n",
    "else:\n",
    "    print(\"Results are not statistically significant.\")\n",
    "print(t, p)"
   ]
  },
  {
   "cell_type": "markdown",
   "id": "9ba03857",
   "metadata": {},
   "source": [
    "However, t-test assumes that the data is normally distributed for its results to be valid. So let's check if group A is normally distributed."
   ]
  },
  {
   "cell_type": "code",
   "execution_count": 129,
   "id": "b68be909",
   "metadata": {},
   "outputs": [
    {
     "name": "stdout",
     "output_type": "stream",
     "text": [
      "p = 0.296618\n",
      "The null hypothesis can be rejected\n"
     ]
    }
   ],
   "source": [
    "import numpy as np\n",
    "from scipy import stats\n",
    "\n",
    "x = group_a\n",
    "k2, p = stats.normaltest(x)\n",
    "\n",
    "alpha = 0.05\n",
    "print(\"p = {:g}\".format(p))\n",
    "p = 8.4713e-19\n",
    "if p < alpha:  # null hypothesis: x comes from a normal distribution\n",
    "    print(\"The null hypothesis can be rejected\")\n",
    "else:\n",
    "    print(\"The null hypothesis cannot be rejected\")"
   ]
  },
  {
   "cell_type": "markdown",
   "id": "9558473c",
   "metadata": {},
   "source": [
    "It appears that the data is not normally distributed."
   ]
  },
  {
   "cell_type": "markdown",
   "id": "fd6cbae1",
   "metadata": {},
   "source": [
    "If the data is not normally distributed, you may want to use a non-parametric test such as the Wilcoxon rank-sum test (also known as the Mann-Whitney test) instead of a t-test. The Wilcoxon rank-sum test can be used to compare two independent samples and does not assume that the data is normally distributed. Here's an example of how you could use the scipy.stats library in Python to perform a Wilcoxon rank-sum test:"
   ]
  },
  {
   "cell_type": "code",
   "execution_count": 130,
   "id": "48366893",
   "metadata": {},
   "outputs": [
    {
     "name": "stdout",
     "output_type": "stream",
     "text": [
      "Results are not statistically significant.\n"
     ]
    }
   ],
   "source": [
    "from scipy import stats\n",
    "\n",
    "# Sample data\n",
    "A = group_a\n",
    "B = group_b\n",
    "\n",
    "# Perform Wilcoxon rank-sum test\n",
    "stat, p = stats.ranksums(A, B)\n",
    "\n",
    "# Check if results are statistically significant\n",
    "alpha = 0.05 # significance level\n",
    "if p < alpha:\n",
    "    print(\"Results are statistically significant.\")\n",
    "else:\n",
    "    print(\"Results are not statistically significant.\")\n"
   ]
  },
  {
   "cell_type": "markdown",
   "id": "9b5f09a7",
   "metadata": {},
   "source": [
    "In summary, covariances between **active** and **others** were measured and then subsequently, both t-test and rank-sum test were perfomed in order to determine whether the A/B test had a significant impact on the metrics.rank-sum test is performed since it was found that the values are not distributed.\n",
    "\n",
    "**Metrics that had impact: CTR, CPC**\n",
    "\n",
    "**Metrics that had no impact: CVR, Revenue Per Visit, AOV**\n",
    "\n",
    "Note: Both t-test and rank-sum test were performed with a confidence threshold of 95%."
   ]
  },
  {
   "cell_type": "code",
   "execution_count": null,
   "id": "d3f656b5",
   "metadata": {},
   "outputs": [],
   "source": []
  },
  {
   "cell_type": "code",
   "execution_count": null,
   "id": "ad4a35e1",
   "metadata": {},
   "outputs": [],
   "source": []
  }
 ],
 "metadata": {
  "kernelspec": {
   "display_name": "Python 3 (ipykernel)",
   "language": "python",
   "name": "python3"
  },
  "language_info": {
   "codemirror_mode": {
    "name": "ipython",
    "version": 3
   },
   "file_extension": ".py",
   "mimetype": "text/x-python",
   "name": "python",
   "nbconvert_exporter": "python",
   "pygments_lexer": "ipython3",
   "version": "3.9.13"
  }
 },
 "nbformat": 4,
 "nbformat_minor": 5
}
